{
 "cells": [
  {
   "cell_type": "code",
   "execution_count": 1,
   "id": "a684c497",
   "metadata": {},
   "outputs": [],
   "source": [
    "import numpy as np\n",
    "import rasterio\n",
    "import matplotlib.pyplot as plt\n",
    "from pyproj import CRS, Transformer\n",
    "from rasterio.warp import reproject, Resampling, CRS\n",
    "import pyproj"
   ]
  },
  {
   "cell_type": "code",
   "execution_count": 2,
   "id": "ab3a38c4",
   "metadata": {},
   "outputs": [],
   "source": [
    "#LOAD RASTER DATA\n",
    "#from rasterio import features\n",
    "with rasterio.open('src_raster/hijo_green.tif') as dataset:\n",
    "    rband = dataset.read(1).astype(np.float32)\n",
    "    gband = dataset.read(2).astype(np.float32)\n",
    "    bband = dataset.read(3).astype(np.float32)\n",
    "    meta_vari = dataset.meta\n",
    "    meta_exg = dataset.meta\n",
    "    meta_gli = dataset.meta"
   ]
  },
  {
   "cell_type": "code",
   "execution_count": 3,
   "id": "7248ccaa",
   "metadata": {},
   "outputs": [],
   "source": [
    "meta_vari.update(nodata=0.0, dtype=rasterio.float32)\n",
    "meta_exg.update(nodata=0.0, dtype=rasterio.float32)\n",
    "meta_gli.update(nodata=0.0, dtype=rasterio.float32)"
   ]
  },
  {
   "cell_type": "code",
   "execution_count": null,
   "id": "b25638b1-cb50-4430-b617-715294d36e46",
   "metadata": {},
   "outputs": [],
   "source": [
    "meta_vari"
   ]
  },
  {
   "cell_type": "code",
   "execution_count": 4,
   "id": "941b2799",
   "metadata": {},
   "outputs": [],
   "source": [
    "#VARI\n",
    "denominator = gband + rband - bband\n",
    "denominator = np.where(np.isclose(denominator, 0), 1e-1, denominator)  # Avoid division by nearly zero\n",
    "vari = (gband - rband) / denominator\n",
    "# Replace NaN values with nodata\n",
    "vari[np.isnan(vari)] = meta_vari['nodata']\n",
    "vari[vari==0] = meta_vari['nodata']\n",
    "vari = np.clip(vari, -1, 1)"
   ]
  },
  {
   "cell_type": "code",
   "execution_count": 5,
   "id": "b38ee702",
   "metadata": {},
   "outputs": [],
   "source": [
    "#GLI\n",
    "gli_denominator = 2 * gband + rband + bband\n",
    "gli_denominator = np.where(np.isclose(gli_denominator, 0), 1e-1, gli_denominator)\n",
    "gli = (2* gband - rband - bband)/ gli_denominator\n",
    "\n",
    "# Replace NaN values with nodata\n",
    "gli[np.isnan(gli)] = meta_gli['nodata']\n",
    "gli[gli== 0] = meta_gli['nodata']\n",
    "\n",
    "gli = np.clip(gli, -1, 1)"
   ]
  },
  {
   "cell_type": "code",
   "execution_count": 6,
   "id": "ccfd66b1",
   "metadata": {},
   "outputs": [],
   "source": [
    "#ExG\n",
    "exg = 2 * gband - rband - bband\n",
    "exg[np.isnan(exg)] = meta_exg['nodata']\n",
    "exg[exg==0] = meta_exg['nodata']"
   ]
  },
  {
   "cell_type": "code",
   "execution_count": 8,
   "id": "501ac629",
   "metadata": {},
   "outputs": [],
   "source": [
    "#VARI EXPORT\n",
    "new_tiff_profile_vari = dataset.profile  # Copy the profile from the original dataset\n",
    "new_tiff_profile_vari.update(\n",
    "                        dtype=rasterio.float32,  # Update the data type to match the VARI data\n",
    "                        count=1,  # Only one band for VARI\n",
    "                        compress='lzw',  # You can choose a compression method if needed\n",
    "                        tiled=False,\n",
    "                        blockysize=1,\n",
    "                        nodata=0.0\n",
    ")\n",
    "new_crs = pyproj.CRS.from_epsg(32651)\n",
    "new_tiff_profile_vari.update(crs=new_crs)\n",
    "\n",
    "#export data to file\n",
    "with rasterio.open('out_raster/index/hijo_vari_green.tif', 'w', **new_tiff_profile_vari) as new_tiff:\n",
    "                            new_tiff.write(vari, 1)"
   ]
  },
  {
   "cell_type": "code",
   "execution_count": 9,
   "id": "cdb76475-f11f-4394-882a-2e07ad17cb4d",
   "metadata": {},
   "outputs": [],
   "source": [
    "#GLI EXPORT\n",
    "new_tiff_profile_gli = dataset.profile  # Copy the profile from the original dataset\n",
    "new_tiff_profile_gli.update(\n",
    "                        dtype=rasterio.float32,  # Update the data type to match the VARI data\n",
    "                        count=1,  # Only one band for VARI\n",
    "                        compress='lzw',  # You can choose a compression method if needed\n",
    "                        tiled=False,\n",
    "                        blockysize=1,\n",
    "                        nodata=0.0\n",
    ")\n",
    "new_crs = pyproj.CRS.from_epsg(32651)\n",
    "new_tiff_profile_gli.update(crs=new_crs)\n",
    "\n",
    "#export data to file\n",
    "with rasterio.open('out_raster/index/hijo_gli_green.tif', 'w', **new_tiff_profile_gli) as new_tiff:\n",
    "                            new_tiff.write(gli, 1)"
   ]
  },
  {
   "cell_type": "code",
   "execution_count": 10,
   "id": "6a37efe3-6c08-4058-9f24-524e4710c4a9",
   "metadata": {},
   "outputs": [],
   "source": [
    "#EXG EXPORT\n",
    "new_tiff_profile_exg = dataset.profile  # Copy the profile from the original dataset\n",
    "new_tiff_profile_exg.update(\n",
    "                        dtype=rasterio.float32,  # Update the data type to match the VARI data\n",
    "                        count=1,  # Only one band for VARI\n",
    "                        compress='lzw',  # You can choose a compression method if needed\n",
    "                        tiled=False,\n",
    "                        blockysize=1,\n",
    "                        nodata=0.0\n",
    ")\n",
    "new_crs = pyproj.CRS.from_epsg(32651)\n",
    "new_tiff_profile_exg.update(crs=new_crs)\n",
    "\n",
    "#export data to file\n",
    "with rasterio.open('out_raster/index/hijo_exg_green.tif', 'w', **new_tiff_profile_exg) as new_tiff:\n",
    "                            new_tiff.write(exg, 1)"
   ]
  },
  {
   "cell_type": "code",
   "execution_count": null,
   "id": "9dc3deef",
   "metadata": {},
   "outputs": [],
   "source": []
  },
  {
   "cell_type": "code",
   "execution_count": null,
   "id": "20a5edc9",
   "metadata": {},
   "outputs": [],
   "source": []
  },
  {
   "cell_type": "code",
   "execution_count": null,
   "id": "81c4977b",
   "metadata": {},
   "outputs": [],
   "source": []
  }
 ],
 "metadata": {
  "kernelspec": {
   "display_name": "class",
   "language": "python",
   "name": "class"
  },
  "language_info": {
   "codemirror_mode": {
    "name": "ipython",
    "version": 3
   },
   "file_extension": ".py",
   "mimetype": "text/x-python",
   "name": "python",
   "nbconvert_exporter": "python",
   "pygments_lexer": "ipython3",
   "version": "3.9.18"
  }
 },
 "nbformat": 4,
 "nbformat_minor": 5
}
