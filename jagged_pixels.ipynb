{
 "cells": [
  {
   "cell_type": "code",
   "execution_count": 48,
   "id": "4caf6c5b",
   "metadata": {},
   "outputs": [],
   "source": [
    "import rasterio\n",
    "from scipy import ndimage\n",
    "import matplotlib.pyplot as plt\n",
    "import pyproj"
   ]
  },
  {
   "cell_type": "code",
   "execution_count": 57,
   "id": "e3655726",
   "metadata": {},
   "outputs": [],
   "source": [
    "with rasterio.open('out_raster/reclass/vari_reclass_sec.tif') as dataset:\n",
    "    data = dataset.read(1)"
   ]
  },
  {
   "cell_type": "code",
   "execution_count": 60,
   "id": "621194f5",
   "metadata": {},
   "outputs": [],
   "source": [
    "sdata = ndimage.gaussian_filter(data, sigma=1)\n",
    "sdata = ndimage.median_filter(data, size=2)\n",
    "#sdata = rasterio.features.opening(data, disk(2))"
   ]
  },
  {
   "cell_type": "code",
   "execution_count": 61,
   "id": "39e31a9f",
   "metadata": {},
   "outputs": [
    {
     "data": {
      "text/plain": [
       "<matplotlib.image.AxesImage at 0x1c9d05d1580>"
      ]
     },
     "execution_count": 61,
     "metadata": {},
     "output_type": "execute_result"
    },
    {
     "data": {
      "image/png": "[encoded data removed]",
      "text/plain": [
       "<Figure size 640x480 with 1 Axes>"
      ]
     },
     "metadata": {},
     "output_type": "display_data"
    }
   ],
   "source": [
    "plt.imshow(sdata)"
   ]
  },
  {
   "cell_type": "code",
   "execution_count": 56,
   "id": "14a3bd9e",
   "metadata": {},
   "outputs": [],
   "source": [
    "#VARI EXPORT\n",
    "new_tiff_profile_vari = dataset.profile  # Copy the profile from the original dataset\n",
    "new_tiff_profile_vari.update(\n",
    "                        dtype=rasterio.float32,  # Update the data type to match the VARI data\n",
    "                        count=1,  # Only one band for VARI\n",
    "                        compress='lzw',  # You can choose a compression method if needed\n",
    "                        tiled=False,\n",
    "                        blockysize=1,\n",
    "                        nodata=0.0\n",
    ")\n",
    "new_crs = pyproj.CRS.from_epsg(32651)\n",
    "new_tiff_profile_vari.update(crs=new_crs)\n",
    "\n",
    "#export data to file\n",
    "with rasterio.open('out_raster/jagged/jagged_test.tif', 'w', **new_tiff_profile_vari) as new_tiff:\n",
    "                            new_tiff.write(sdata, 1)"
   ]
  },
  {
   "cell_type": "code",
   "execution_count": null,
   "id": "5f2fbdd2",
   "metadata": {},
   "outputs": [],
   "source": []
  }
 ],
 "metadata": {
  "kernelspec": {
   "display_name": "class",
   "language": "python",
   "name": "class"
  },
  "language_info": {
   "codemirror_mode": {
    "name": "ipython",
    "version": 3
   },
   "file_extension": ".py",
   "mimetype": "text/x-python",
   "name": "python",
   "nbconvert_exporter": "python",
   "pygments_lexer": "ipython3",
   "version": "3.9.18"
  }
 },
 "nbformat": 4,
 "nbformat_minor": 5
}
