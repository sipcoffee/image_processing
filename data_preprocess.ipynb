{
 "cells": [
  {
   "cell_type": "code",
   "execution_count": null,
   "id": "4f1849da-6b81-4095-9633-75b1262d1828",
   "metadata": {},
   "outputs": [],
   "source": [
    "import numpy as np\n",
    "import rasterio\n",
    "import matplotlib.pyplot as plt\n",
    "import pyproj"
   ]
  },
  {
   "cell_type": "code",
   "execution_count": null,
   "id": "6b999b51-f02e-44ae-9710-614e77a7e81b",
   "metadata": {},
   "outputs": [],
   "source": [
    "from skimage.restoration import denoise_nl_means, estimate_sigma\n",
    "from skimage import exposure\n",
    "from skimage import img_as_float, img_as_ubyte, io"
   ]
  },
  {
   "cell_type": "code",
   "execution_count": null,
   "id": "1e46465a-f73e-4716-bc48-3a0596b70145",
   "metadata": {},
   "outputs": [],
   "source": [
    "#from rasterio import features\n",
    "with rasterio.open('out_raster/index/vari.tif') as dataset:\n",
    "    vari = dataset.read(1).astype(np.float32)\n",
    "    meta = dataset.meta\n",
    "    nodata_value = meta['nodata']  # Extract the nodata value"
   ]
  },
  {
   "cell_type": "code",
   "execution_count": null,
   "id": "0816d3d8",
   "metadata": {},
   "outputs": [],
   "source": [
    " # Create a boolean mask for non-nodata values\n",
    "valid_mask = vari != nodata_value"
   ]
  },
  {
   "cell_type": "code",
   "execution_count": null,
   "id": "e15932a6-2d8f-4d7e-805e-f6b8cbe90f81",
   "metadata": {
    "scrolled": true
   },
   "outputs": [],
   "source": [
    "plt.hist(vari[valid_mask].flatten(), bins=100)"
   ]
  },
  {
   "cell_type": "code",
   "execution_count": null,
   "id": "e50d3968-cbe9-4354-84dc-082e888ff25f",
   "metadata": {},
   "outputs": [],
   "source": [
    "plt.imshow(vari)"
   ]
  },
  {
   "cell_type": "code",
   "execution_count": null,
   "id": "cd029fc1-c42f-419d-9974-839cb1ae14ab",
   "metadata": {},
   "outputs": [],
   "source": [
    "print(np.mean(vari))"
   ]
  },
  {
   "cell_type": "code",
   "execution_count": null,
   "id": "eb94d45f-353d-4817-b895-9e3929a15e93",
   "metadata": {
    "scrolled": true
   },
   "outputs": [],
   "source": [
    "plt.hist(vari.flatten(), bins=100)"
   ]
  },
  {
   "cell_type": "code",
   "execution_count": null,
   "id": "bd5f376e-08ba-46f6-a56e-199bf62fdaa6",
   "metadata": {},
   "outputs": [],
   "source": [
    "sigma_est = np.mean(estimate_sigma(vari, channel_axis=None))\n",
    "sigma_est"
   ]
  },
  {
   "cell_type": "code",
   "execution_count": null,
   "id": "0ad8f845-c12f-479c-9cba-e1083a5da38c",
   "metadata": {},
   "outputs": [],
   "source": [
    "denoise = denoise_nl_means(vari, h=3 * sigma_est, fast_mode=True, patch_size=3, patch_distance=6)"
   ]
  },
  {
   "cell_type": "code",
   "execution_count": null,
   "id": "f1b00472-62c4-48aa-93f4-1b465922ad71",
   "metadata": {
    "scrolled": true
   },
   "outputs": [],
   "source": [
    "plt.hist(denoise.flatten(), bins=100, range=(-1,1))"
   ]
  },
  {
   "cell_type": "code",
   "execution_count": null,
   "id": "4ca567ea-ab1e-4789-8ceb-0770a11d41d4",
   "metadata": {
    "scrolled": true
   },
   "outputs": [],
   "source": [
    "!pip install PyWavelets"
   ]
  },
  {
   "cell_type": "code",
   "execution_count": null,
   "id": "eaf07503-53e2-45d8-9e89-6e9aad2ddcbb",
   "metadata": {},
   "outputs": [],
   "source": [
    "eq = exposure.equalize_adapthist(denoise)"
   ]
  },
  {
   "cell_type": "code",
   "execution_count": null,
   "id": "7631b5ab-2890-4b19-b441-e8bb241606e1",
   "metadata": {},
   "outputs": [],
   "source": [
    "fig, (a1,a2,a3) = plt.subplots(1,3)\n",
    "a1.hist(vari.flatten(), bins=100)\n",
    "a1.set_title('vari')\n",
    "a2.hist(denoise.flatten(), bins=100)\n",
    "a2.set_title('denoise')\n",
    "a3.hist(eq.flatten(), bins=100)\n",
    "a3.set_title('eq')"
   ]
  },
  {
   "cell_type": "code",
   "execution_count": null,
   "id": "fe2430b1-a00a-4b08-a172-73e1c0846a8f",
   "metadata": {},
   "outputs": [],
   "source": [
    "fig, (ax1,ax2,ax3) = plt.subplots(1,3)\n",
    "ax1.imshow(vari)\n",
    "ax2.imshow(denoise)\n",
    "ax3.imshow(eq)"
   ]
  },
  {
   "cell_type": "code",
   "execution_count": null,
   "id": "1aba3ca9-e2ab-44ab-8d0e-15837288a43e",
   "metadata": {},
   "outputs": [],
   "source": [
    "from rasterio.transform import from_origin"
   ]
  },
  {
   "cell_type": "code",
   "execution_count": null,
   "id": "44c73301-8fc5-42fd-a4e3-0c84717b0974",
   "metadata": {},
   "outputs": [],
   "source": [
    "# Specify the path to save the output TIFF file\n",
    "processed_img = 'cleaned/processed_2ha.tif'\n",
    "\n",
    "# Assuming 'meta' contains the metadata obtained from the original raster file\n",
    "# Adjust the metadata as necessary for your output\n",
    "meta['dtype'] = 'float32'  # Define the data type of the output TIFF\n",
    "transform = from_origin(meta['transform'][2], meta['transform'][5], meta['transform'][0], meta['transform'][3])\n",
    "\n",
    "with rasterio.open(processed_img, 'w', **meta) as dst:\n",
    "    dst.write(eq, 1)  # Writing the cleaned array into the TIFF file"
   ]
  },
  {
   "cell_type": "code",
   "execution_count": null,
   "id": "bcb1ee5a-2979-4bad-bdae-04fb646b95f4",
   "metadata": {},
   "outputs": [],
   "source": [
    "meta"
   ]
  },
  {
   "cell_type": "code",
   "execution_count": null,
   "id": "b422dc9e-d0a5-47fa-8b3b-52b2b9048668",
   "metadata": {
    "scrolled": true
   },
   "outputs": [],
   "source": [
    "plt.hist(eq.flatten(), bins=100, range=(-1,1))"
   ]
  },
  {
   "cell_type": "code",
   "execution_count": null,
   "id": "4d1aeab8-f86a-4d50-9620-83f459f6f24a",
   "metadata": {},
   "outputs": [],
   "source": [
    "plt.imshow(denoise)"
   ]
  },
  {
   "cell_type": "code",
   "execution_count": null,
   "id": "98bc30ac-a0db-45a2-84a9-4cf05fe2d753",
   "metadata": {},
   "outputs": [],
   "source": [
    "plt.imshow(eq)"
   ]
  },
  {
   "cell_type": "code",
   "execution_count": null,
   "id": "bd53cbf0-faf9-4d8c-81b9-a8836323f6b5",
   "metadata": {},
   "outputs": [],
   "source": [
    "np.min(eq)"
   ]
  },
  {
   "cell_type": "code",
   "execution_count": null,
   "id": "f6fcc52a-3d60-46b3-83e4-02536eb8c203",
   "metadata": {},
   "outputs": [],
   "source": [
    "markers = np.zeros(dataset.shape, dtype=np.float32)"
   ]
  },
  {
   "cell_type": "code",
   "execution_count": null,
   "id": "ccdf3b48-136c-4530-848c-2550f97f4a18",
   "metadata": {},
   "outputs": [],
   "source": [
    "no_vegetation = (vari > 0.001) & (vari < 0.002)\n",
    "nitrogen20 = (vari > 0.002) & (vari <= 0.1)\n",
    "nitrogen40 = (vari > 0.1) & (vari <= 0.2)\n",
    "nitrogen60 = (vari > 0.2) & (vari <= 0.3)\n",
    "nitrogen80 = (vari > 0.3) & (vari < 1)\n",
    "# seg3 = (denoise >=0.2) & (denoise <0.3)\n",
    "# seg4 = (denoise >=0.3) & (denoise <0.40)\n",
    "# seg5 = (denoise >=0.4) & (denoise <0.90)"
   ]
  },
  {
   "cell_type": "code",
   "execution_count": null,
   "id": "dc875a8f-92d1-43a4-9bf4-7d0ee72c7ce6",
   "metadata": {},
   "outputs": [],
   "source": [
    "all_segment = np.zeros((dataset.shape[0], dataset.shape[1], 1))"
   ]
  },
  {
   "cell_type": "code",
   "execution_count": null,
   "id": "a737d0b3-793f-4adf-ad82-406b2df0a1da",
   "metadata": {
    "scrolled": true
   },
   "outputs": [],
   "source": [
    "plt.hist(denoise.flat, bins=100)"
   ]
  },
  {
   "cell_type": "code",
   "execution_count": null,
   "id": "60db34c6-006a-4638-8a2e-8f73c3c79fee",
   "metadata": {},
   "outputs": [],
   "source": [
    "markers[no_vegetation] = (5)\n",
    "markers[nitrogen20] = (10)\n",
    "markers[nitrogen40] = (20)\n",
    "markers[nitrogen60] = (30)\n",
    "markers[nitrogen80] = (40)\n",
    "# all_segment[seg3] = (40)\n",
    "# all_segment[seg4] = (2)\n",
    "# all_segment[seg5] = (1)\n",
    "plt.imshow(markers)"
   ]
  },
  {
   "cell_type": "code",
   "execution_count": null,
   "id": "cf006025",
   "metadata": {
    "scrolled": true
   },
   "outputs": [],
   "source": [
    "meta"
   ]
  },
  {
   "cell_type": "code",
   "execution_count": null,
   "id": "af1032a5",
   "metadata": {},
   "outputs": [],
   "source": [
    "out_path = 'out_raster/classifiy_green_6.tif'\n",
    "# Assuming 'meta' contains the metadata obtained from the original raster file\n",
    "# Adjust the metadata as necessary for your output\n",
    "meta['dtype'] = 'float32'  # Define the data type of the output TIFF\n",
    "transform = from_origin(meta['transform'][2], meta['transform'][5], meta['transform'][0], meta['transform'][3])\n",
    "\n",
    "# green farm\n",
    "meta.update(\n",
    "            dtype=rasterio.float32,  # Update the data type to match the VARI data\n",
    "                        count=1,  # Only one band for VARI\n",
    "                        compress='lzw',  # You can choose a compression method if needed\n",
    "                        tiled=False,\n",
    "                        blockysize=1,\n",
    "                        nodata=0.0\n",
    ")\n",
    "new_crs_green = pyproj.CRS.from_epsg(32651)\n",
    "meta.update(crs=new_crs_green)\n",
    "\n",
    "with rasterio.open(out_path, 'w', **meta) as dst:\n",
    "    dst.write(markers, 1)  # Writing the cleaned array into the TIFF file"
   ]
  },
  {
   "cell_type": "code",
   "execution_count": null,
   "id": "017406be",
   "metadata": {},
   "outputs": [],
   "source": [
    "meta"
   ]
  },
  {
   "cell_type": "code",
   "execution_count": null,
   "id": "b6b5a8e7-f2b9-4216-bcb4-4942dd5edc0b",
   "metadata": {},
   "outputs": [],
   "source": [
    "plt.imshow(vari)"
   ]
  },
  {
   "cell_type": "code",
   "execution_count": null,
   "id": "6bf54a28-1c11-46e5-9579-b6269dc2bb6c",
   "metadata": {},
   "outputs": [],
   "source": [
    "from scipy import ndimage as nd\n",
    "from rasterio.transform import from_origin"
   ]
  },
  {
   "cell_type": "code",
   "execution_count": null,
   "id": "298f56b2-18ec-44ac-95a9-09bbe1650ddd",
   "metadata": {},
   "outputs": [],
   "source": [
    "x=5"
   ]
  },
  {
   "cell_type": "code",
   "execution_count": null,
   "id": "405ab535-9063-4d74-bce8-e39754419067",
   "metadata": {},
   "outputs": [],
   "source": [
    "seg1_open = nd.binary_opening(nitrogen20, np.ones((x,x)))\n",
    "seg1_close = nd.binary_closing(seg1_open, np.ones((x,x)))\n",
    "\n",
    "seg2_open = nd.binary_opening(nitrogen40, np.ones((x,x)))\n",
    "seg2_close = nd.binary_closing(seg2_open, np.ones((x,x)))\n",
    "                                                  \n",
    "seg3_open = nd.binary_opening(nitrogen60, np.ones((x,x)))\n",
    "seg3_close = nd.binary_closing(seg3_open, np.ones((x,x)))\n",
    "\n",
    "seg4_open = nd.binary_opening(nitrogen80, np.ones((x,x)))\n",
    "seg4_close = nd.binary_closing(seg4_open, np.ones((x,x)))\n",
    "\n",
    "# seg5_open = nd.binary_opening(nitrogen20, np.ones((x,x)))\n",
    "# seg5_close = nd.binary_closing(seg5_open, np.ones((x,x)))"
   ]
  },
  {
   "cell_type": "code",
   "execution_count": null,
   "id": "0d3ced58-474a-410e-8bc8-81b8afeca602",
   "metadata": {},
   "outputs": [],
   "source": [
    "cleaned = np.zeros((dataset.shape[0], dataset.shape[1]), dtype=np.float32)"
   ]
  },
  {
   "cell_type": "code",
   "execution_count": null,
   "id": "adea0324-da14-406e-93a6-446f2ad89462",
   "metadata": {},
   "outputs": [],
   "source": [
    "cleaned[seg1_close] = (0)\n",
    "cleaned[seg2_close] = (23)\n",
    "cleaned[seg3_close] = (40)\n",
    "cleaned[seg4_close] = (2)\n",
    "#cleaned[seg5_close] = (1)\n",
    "plt.imshow(cleaned)"
   ]
  },
  {
   "cell_type": "code",
   "execution_count": null,
   "id": "9b2397a8-4c0e-45c8-9ddc-1d3821ece348",
   "metadata": {},
   "outputs": [],
   "source": [
    "cleaned.shape"
   ]
  },
  {
   "cell_type": "code",
   "execution_count": null,
   "id": "295a88ec-4c5b-4fa1-a9c0-d22ed8e5d280",
   "metadata": {},
   "outputs": [],
   "source": [
    "# Specify the path to save the output TIFF file\n",
    "output_file_cleaned = 'cleaned/clean_2ha.tif'\n",
    "\n",
    "# Assuming 'meta' contains the metadata obtained from the original raster file\n",
    "# Adjust the metadata as necessary for your output\n",
    "meta['dtype'] = 'float32'  # Define the data type of the output TIFF\n",
    "transform = from_origin(meta['transform'][2], meta['transform'][5], meta['transform'][0], meta['transform'][3])\n",
    "\n",
    "with rasterio.open(output_file_cleaned, 'w', **meta) as dst:\n",
    "    dst.write(cleaned, 1)  # Writing the cleaned array into the TIFF file"
   ]
  },
  {
   "cell_type": "code",
   "execution_count": null,
   "id": "f0a6e954-3f23-474f-84d1-1b40a957cdaf",
   "metadata": {},
   "outputs": [],
   "source": []
  },
  {
   "cell_type": "code",
   "execution_count": null,
   "id": "d5ac4c24-2235-4950-9e5d-4e0048e2c797",
   "metadata": {},
   "outputs": [],
   "source": [
    "from skimage.segmentation import random_walker"
   ]
  },
  {
   "cell_type": "code",
   "execution_count": null,
   "id": "a78442e3-213e-4fe0-bd25-2ed933c7a8e7",
   "metadata": {},
   "outputs": [],
   "source": [
    "labels = random_walker(eq, markers, beta=10, mode='bf')"
   ]
  },
  {
   "cell_type": "code",
   "execution_count": null,
   "id": "0d4cb18e-db8e-4691-a74b-ce4a5be7a696",
   "metadata": {},
   "outputs": [],
   "source": [
    "plt.imshow(labels)"
   ]
  },
  {
   "cell_type": "code",
   "execution_count": null,
   "id": "2c4e0591-44b0-4942-b896-4a191a8a1f36",
   "metadata": {},
   "outputs": [],
   "source": [
    "# Specify the path to save the output TIFF file\n",
    "labels_out = 'labels.tif'\n",
    "\n",
    "# Assuming 'meta' contains the metadata obtained from the original raster file\n",
    "# Adjust the metadata as necessary for your output\n",
    "meta['dtype'] = 'float32'  # Define the data type of the output TIFF\n",
    "transform = from_origin(meta['transform'][2], meta['transform'][5], meta['transform'][0], meta['transform'][3])\n",
    "\n",
    "with rasterio.open(labels_out, 'w', **meta) as dst:\n",
    "    dst.write(labels, 1)  # Writing the cleaned array into the TIFF file"
   ]
  },
  {
   "cell_type": "code",
   "execution_count": null,
   "id": "cbb992e5-5ea5-43af-837c-68d32777397b",
   "metadata": {},
   "outputs": [],
   "source": []
  }
 ],
 "metadata": {
  "kernelspec": {
   "display_name": "class",
   "language": "python",
   "name": "class"
  },
  "language_info": {
   "codemirror_mode": {
    "name": "ipython",
    "version": 3
   },
   "file_extension": ".py",
   "mimetype": "text/x-python",
   "name": "python",
   "nbconvert_exporter": "python",
   "pygments_lexer": "ipython3",
   "version": "3.9.18"
  }
 },
 "nbformat": 4,
 "nbformat_minor": 5
}
