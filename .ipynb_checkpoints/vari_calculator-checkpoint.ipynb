{
 "cells": [
  {
   "cell_type": "code",
   "execution_count": 1,
   "id": "92f963c6",
   "metadata": {},
   "outputs": [],
   "source": [
    "import numpy as np\n",
    "import rasterio\n",
    "import matplotlib.pyplot as plt\n",
    "from pyproj import CRS, Transformer\n",
    "from rasterio.warp import reproject, Resampling, CRS\n",
    "import pyproj"
   ]
  },
  {
   "cell_type": "code",
   "execution_count": 2,
   "id": "6ec2be20",
   "metadata": {},
   "outputs": [],
   "source": [
    "nodata = -9999.9"
   ]
  },
  {
   "cell_type": "code",
   "execution_count": 3,
   "id": "dd319069",
   "metadata": {},
   "outputs": [],
   "source": [
    "#LOAD RASTER DATA\n",
    "#from rasterio import features\n",
    "with rasterio.open('src_raster/25m_tiled_image.tif') as data_green:\n",
    "    rband_green = data_green.read(1).astype(np.float32)\n",
    "    gband_green = data_green.read(2).astype(np.float32)\n",
    "    bband_green = data_green.read(3).astype(np.float32)\n",
    "    meta_green = data_green.meta"
   ]
  },
  {
   "cell_type": "code",
   "execution_count": 4,
   "id": "d2ed6427",
   "metadata": {},
   "outputs": [],
   "source": [
    "#VARI on GREEN DATA\n",
    "den_green = gband_green + rband_green - bband_green\n",
    "den_green = np.where(np.isclose(den_green, 0), 1e-1, den_green)  # Avoid division by nearly zero\n",
    "vari_green = (gband_green - rband_green) / den_green\n",
    "# Replace NaN values with nodata\n",
    "vari_green[np.isnan(vari_green)] = 0.0\n",
    "vari_green[vari_green==0] = 0.0\n",
    "vari_green = np.clip(vari_green, -1, 1)"
   ]
  },
  {
   "cell_type": "code",
   "execution_count": 7,
   "id": "022bf309",
   "metadata": {},
   "outputs": [
    {
     "data": {
      "text/plain": [
       "-0.014964385"
      ]
     },
     "execution_count": 7,
     "metadata": {},
     "output_type": "execute_result"
    }
   ],
   "source": [
    "np.mean(vari_green)"
   ]
  },
  {
   "cell_type": "code",
   "execution_count": 8,
   "id": "ae810a64",
   "metadata": {
    "scrolled": true
   },
   "outputs": [
    {
     "data": {
      "text/plain": [
       "(array([3.070000e+02, 0.000000e+00, 4.000000e+00, 0.000000e+00,\n",
       "        0.000000e+00, 4.000000e+00, 0.000000e+00, 1.000000e+00,\n",
       "        0.000000e+00, 0.000000e+00, 1.000000e+00, 0.000000e+00,\n",
       "        0.000000e+00, 0.000000e+00, 0.000000e+00, 0.000000e+00,\n",
       "        4.000000e+00, 0.000000e+00, 0.000000e+00, 0.000000e+00,\n",
       "        2.000000e+00, 0.000000e+00, 1.000000e+00, 0.000000e+00,\n",
       "        0.000000e+00, 1.100000e+01, 0.000000e+00, 0.000000e+00,\n",
       "        2.000000e+00, 2.000000e+00, 9.000000e+00, 1.800000e+01,\n",
       "        1.500000e+01, 4.600000e+01, 7.900000e+01, 1.380000e+02,\n",
       "        3.090000e+02, 5.950000e+02, 1.499000e+03, 3.437000e+03,\n",
       "        8.566000e+03, 1.812600e+04, 3.872100e+04, 8.097600e+04,\n",
       "        1.839450e+05, 4.894230e+05, 1.191612e+06, 2.101530e+06,\n",
       "        1.609994e+06, 3.978130e+05, 3.046386e+06, 1.057250e+05,\n",
       "        8.655900e+04, 8.070300e+04, 8.719500e+04, 1.085860e+05,\n",
       "        1.273490e+05, 1.325140e+05, 1.102340e+05, 8.287900e+04,\n",
       "        6.564600e+04, 4.605100e+04, 3.418200e+04, 2.580300e+04,\n",
       "        1.944600e+04, 1.455500e+04, 1.089300e+04, 7.944000e+03,\n",
       "        6.081000e+03, 4.332000e+03, 3.506000e+03, 2.468000e+03,\n",
       "        1.731000e+03, 1.105000e+03, 6.960000e+02, 8.060000e+02,\n",
       "        5.100000e+02, 3.660000e+02, 2.950000e+02, 2.330000e+02,\n",
       "        2.460000e+02, 1.750000e+02, 1.550000e+02, 1.000000e+02,\n",
       "        1.140000e+02, 9.000000e+01, 9.800000e+01, 7.000000e+01,\n",
       "        9.000000e+01, 7.100000e+01, 9.100000e+01, 5.300000e+01,\n",
       "        1.160000e+02, 1.050000e+02, 8.800000e+01, 8.500000e+01,\n",
       "        1.230000e+02, 6.100000e+01, 8.700000e+01, 2.287000e+03]),\n",
       " array([-1.        , -0.98000002, -0.95999998, -0.94      , -0.92000002,\n",
       "        -0.89999998, -0.88      , -0.86000001, -0.83999997, -0.81999999,\n",
       "        -0.80000001, -0.77999997, -0.75999999, -0.74000001, -0.72000003,\n",
       "        -0.69999999, -0.68000001, -0.66000003, -0.63999999, -0.62      ,\n",
       "        -0.60000002, -0.57999998, -0.56      , -0.54000002, -0.51999998,\n",
       "        -0.5       , -0.47999999, -0.46000001, -0.44      , -0.41999999,\n",
       "        -0.40000001, -0.38      , -0.36000001, -0.34      , -0.31999999,\n",
       "        -0.30000001, -0.28      , -0.25999999, -0.23999999, -0.22      ,\n",
       "        -0.2       , -0.18000001, -0.16      , -0.14      , -0.12      ,\n",
       "        -0.1       , -0.08      , -0.06      , -0.04      , -0.02      ,\n",
       "         0.        ,  0.02      ,  0.04      ,  0.06      ,  0.08      ,\n",
       "         0.1       ,  0.12      ,  0.14      ,  0.16      ,  0.18000001,\n",
       "         0.2       ,  0.22      ,  0.23999999,  0.25999999,  0.28      ,\n",
       "         0.30000001,  0.31999999,  0.34      ,  0.36000001,  0.38      ,\n",
       "         0.40000001,  0.41999999,  0.44      ,  0.46000001,  0.47999999,\n",
       "         0.5       ,  0.51999998,  0.54000002,  0.56      ,  0.57999998,\n",
       "         0.60000002,  0.62      ,  0.63999999,  0.66000003,  0.68000001,\n",
       "         0.69999999,  0.72000003,  0.74000001,  0.75999999,  0.77999997,\n",
       "         0.80000001,  0.81999999,  0.83999997,  0.86000001,  0.88      ,\n",
       "         0.89999998,  0.92000002,  0.94      ,  0.95999998,  0.98000002,\n",
       "         1.        ]),\n",
       " <BarContainer object of 100 artists>)"
      ]
     },
     "execution_count": 8,
     "metadata": {},
     "output_type": "execute_result"
    },
    {
     "data": {
      "image/png": "[encoded data removed]",
      "text/plain": [
       "<Figure size 1200x400 with 1 Axes>"
      ]
     },
     "metadata": {},
     "output_type": "display_data"
    }
   ],
   "source": [
    "fig, (a3) = plt.subplots(1,1, figsize=(12,4))\n",
    "a3.hist(vari_green.flatten(), bins=100)"
   ]
  },
  {
   "cell_type": "code",
   "execution_count": 10,
   "id": "b4902535",
   "metadata": {},
   "outputs": [],
   "source": [
    "# green farm\n",
    "new_tiff_profile_green = data_green.profile  # Copy the profile from the original dataset\n",
    "new_tiff_profile_green.update(\n",
    "            dtype=rasterio.float32,  # Update the data type to match the VARI data\n",
    "                        count=1,  # Only one band for VARI\n",
    "                        compress='lzw',  # You can choose a compression method if needed\n",
    "                        tiled=False,\n",
    "                        blockysize=1,\n",
    "                        nodata=0.0\n",
    ")\n",
    "new_crs_green = pyproj.CRS.from_epsg(32651)\n",
    "new_tiff_profile_green.update(crs=new_crs_green)"
   ]
  },
  {
   "cell_type": "code",
   "execution_count": 11,
   "id": "a78fee12",
   "metadata": {},
   "outputs": [],
   "source": [
    "#export data to file\n",
    "with rasterio.open('out_raster/25m_vari.tif', 'w', **new_tiff_profile_green) as new_tiff_green:\n",
    "                            new_tiff_green.write(vari_green, 1)"
   ]
  },
  {
   "cell_type": "code",
   "execution_count": null,
   "id": "87ad4965",
   "metadata": {},
   "outputs": [],
   "source": []
  },
  {
   "cell_type": "code",
   "execution_count": null,
   "id": "e03c7145",
   "metadata": {},
   "outputs": [],
   "source": []
  },
  {
   "cell_type": "code",
   "execution_count": null,
   "id": "906cb32c",
   "metadata": {},
   "outputs": [],
   "source": []
  },
  {
   "cell_type": "code",
   "execution_count": null,
   "id": "9aa99bf8",
   "metadata": {},
   "outputs": [],
   "source": []
  },
  {
   "cell_type": "code",
   "execution_count": null,
   "id": "1bc88e19",
   "metadata": {},
   "outputs": [],
   "source": []
  },
  {
   "cell_type": "code",
   "execution_count": null,
   "id": "6cdf0b1f",
   "metadata": {},
   "outputs": [],
   "source": []
  },
  {
   "cell_type": "code",
   "execution_count": null,
   "id": "40275949",
   "metadata": {},
   "outputs": [],
   "source": []
  },
  {
   "cell_type": "code",
   "execution_count": null,
   "id": "67434d8b",
   "metadata": {},
   "outputs": [],
   "source": []
  },
  {
   "cell_type": "code",
   "execution_count": null,
   "id": "b55a58c4",
   "metadata": {},
   "outputs": [],
   "source": []
  },
  {
   "cell_type": "code",
   "execution_count": null,
   "id": "b7bcb7c6",
   "metadata": {},
   "outputs": [],
   "source": []
  },
  {
   "cell_type": "code",
   "execution_count": null,
   "id": "e807adb1",
   "metadata": {},
   "outputs": [],
   "source": []
  },
  {
   "cell_type": "code",
   "execution_count": null,
   "id": "b0f8cd19",
   "metadata": {},
   "outputs": [],
   "source": []
  },
  {
   "cell_type": "code",
   "execution_count": null,
   "id": "3c42cf02",
   "metadata": {},
   "outputs": [],
   "source": []
  }
 ],
 "metadata": {
  "kernelspec": {
   "display_name": "class",
   "language": "python",
   "name": "class"
  },
  "language_info": {
   "codemirror_mode": {
    "name": "ipython",
    "version": 3
   },
   "file_extension": ".py",
   "mimetype": "text/x-python",
   "name": "python",
   "nbconvert_exporter": "python",
   "pygments_lexer": "ipython3",
   "version": "3.9.18"
  }
 },
 "nbformat": 4,
 "nbformat_minor": 5
}
