{
 "cells": [
  {
   "cell_type": "code",
   "execution_count": 1,
   "id": "a684c497",
   "metadata": {},
   "outputs": [],
   "source": [
    "import numpy as np\n",
    "import rasterio\n",
    "import matplotlib.pyplot as plt\n",
    "from pyproj import CRS, Transformer\n",
    "from rasterio.warp import reproject, Resampling, CRS\n",
    "import pyproj"
   ]
  },
  {
   "cell_type": "code",
   "execution_count": null,
   "id": "ab3a38c4",
   "metadata": {},
   "outputs": [],
   "source": [
    "#LOAD RASTER DATA\n",
    "#from rasterio import features\n",
    "with rasterio.open('src_raster/prev_data_cropped.tif') as data_prev:\n",
    "    rband_prev = data_prev.read(1).astype(np.float32)\n",
    "    gband_prev = data_prev.read(2).astype(np.float32)\n",
    "    bband_prev = data_prev.read(3).astype(np.float32)\n",
    "    meta_prev = data_prev.meta\n",
    "    meta_prev['nodata'] = None\n",
    "    \n",
    "with rasterio.open('src_raster/yellow.tif') as data_yellow:\n",
    "    rband_yellow = data_yellow.read(1).astype(np.float32)\n",
    "    gband_yellow = data_yellow.read(2).astype(np.float32)\n",
    "    bband_yellow = data_yellow.read(3).astype(np.float32)\n",
    "    meta_yellow = data_yellow.meta\n",
    "    \n",
    "with rasterio.open('src_raster/green.tif') as data_green:\n",
    "    rband_green = data_green.read(1).astype(np.float32)\n",
    "    gband_green = data_green.read(2).astype(np.float32)\n",
    "    bband_green = data_green.read(3).astype(np.float32)\n",
    "    meta_green = data_green.meta"
   ]
  },
  {
   "cell_type": "code",
   "execution_count": null,
   "id": "e4ede989",
   "metadata": {},
   "outputs": [],
   "source": [
    "meta_prev"
   ]
  },
  {
   "cell_type": "code",
   "execution_count": null,
   "id": "7248ccaa",
   "metadata": {},
   "outputs": [],
   "source": [
    "nodata = -9999"
   ]
  },
  {
   "cell_type": "code",
   "execution_count": null,
   "id": "941b2799",
   "metadata": {},
   "outputs": [],
   "source": [
    "#VARI on PREV DATA\n",
    "den_prev = gband_prev + rband_prev - bband_prev\n",
    "den_prev = np.where(np.isclose(den_prev, 0), 1e-1, den_prev)  # Avoid division by nearly zero\n",
    "vari_prev = (gband_prev - rband_prev) / den_prev\n",
    "# Replace NaN values with nodata\n",
    "vari_prev[np.isnan(vari_prev)] = meta_prev['nodata']\n",
    "vari_prev[vari_prev==0] = meta_prev['nodata']\n",
    "vari_prev = np.clip(vari_prev, -1, 1)"
   ]
  },
  {
   "cell_type": "code",
   "execution_count": null,
   "id": "0b39ae38",
   "metadata": {},
   "outputs": [],
   "source": [
    "#VARI on YELLOW DATA\n",
    "den_yellow = gband_yellow + rband_yellow - bband_yellow\n",
    "den_yellow = np.where(np.isclose(den_yellow, 0), 1e-1, den_yellow)  # Avoid division by nearly zero\n",
    "vari_yellow = (gband_yellow - rband_yellow) / den_yellow\n",
    "# Replace NaN values with nodata\n",
    "vari_yellow[np.isnan(vari_yellow)] = meta_yellow['nodata']\n",
    "vari_yellow[vari_yellow==0] = meta_yellow['nodata']\n",
    "vari_yellow = np.clip(vari_yellow, -1, 1)"
   ]
  },
  {
   "cell_type": "code",
   "execution_count": null,
   "id": "446c888f",
   "metadata": {},
   "outputs": [],
   "source": [
    "#VARI on GREEN DATA\n",
    "den_green = gband_green + rband_green - bband_green\n",
    "den_green = np.where(np.isclose(den_green, 0), 1e-1, den_green)  # Avoid division by nearly zero\n",
    "vari_green = (gband_green - rband_green) / den_green\n",
    "# Replace NaN values with nodata\n",
    "vari_green[np.isnan(vari_green)] = meta_green['nodata']\n",
    "vari_green[vari_green==0] = meta_green['nodata']\n",
    "vari_green = np.clip(vari_green, -1, 1)"
   ]
  },
  {
   "cell_type": "code",
   "execution_count": null,
   "id": "b38ee702",
   "metadata": {},
   "outputs": [],
   "source": [
    "#GLI\n",
    "gli_denominator = 2 * green_band + red_band + blue_band\n",
    "gli_denominator = np.where(np.isclose(gli_denominator, 0), 1e-1, gli_denominator)\n",
    "gli = (2* green_band - red_band - blue_band)/ gli_denominator\n",
    "\n",
    "# Replace NaN values with nodata\n",
    "gli[np.isnan(gli)] = nodata\n",
    "gli[gli== 0] = nodata\n",
    "\n",
    "gli = np.clip(gli, -1, 1)"
   ]
  },
  {
   "cell_type": "code",
   "execution_count": null,
   "id": "ccfd66b1",
   "metadata": {},
   "outputs": [],
   "source": [
    "#ExG\n",
    "exg_prev = 2 * gband_prev - rband_prev - bband_prev\n",
    "exg_prev[np.isnan(exg_prev)] = meta_prev['nodata']\n",
    "exg_prev[exg_prev==0] = -9999\n",
    "\n",
    "exg_yellow  = 2 * gband_yellow - rband_yellow - bband_yellow\n",
    "exg_yellow[np.isnan(exg_yellow)] =  meta_yellow['nodata']\n",
    "exg_yellow[exg_yellow==0] = meta_yellow['nodata']\n",
    "\n",
    "exg_green =  2 * gband_green - rband_green - bband_green\n",
    "exg_green[np.isnan(exg_green)] =  meta_green['nodata']\n",
    "exg_green[exg_green==0] = meta_green['nodata']"
   ]
  },
  {
   "cell_type": "code",
   "execution_count": null,
   "id": "d4fbef09",
   "metadata": {},
   "outputs": [],
   "source": [
    "np.max(exg_prev)"
   ]
  },
  {
   "cell_type": "code",
   "execution_count": null,
   "id": "952762e0",
   "metadata": {
    "scrolled": true
   },
   "outputs": [],
   "source": [
    "fig, (a1, a2, a3) = plt.subplots(1,3, figsize=(12,4))\n",
    "a1.hist(exg_prev.flatten(), bins=100)\n",
    "a2.hist(exg_yellow.flatten(), bins=100 )\n",
    "a3.hist(exg_green.flatten(), bins=100)"
   ]
  },
  {
   "cell_type": "code",
   "execution_count": null,
   "id": "501ac629",
   "metadata": {},
   "outputs": [],
   "source": [
    "# data prev\n",
    "new_tiff_profile = data_prev.profile  # Copy the profile from the original dataset\n",
    "new_tiff_profile.update(\n",
    "            dtype=rasterio.float32,  # Update the data type to match the VARI data\n",
    "                        count=1,  # Only one band for VARI\n",
    "                        compress='lzw',  # You can choose a compression method if needed\n",
    "                        tiled=False,\n",
    "                        blockysize=1,\n",
    "                        nodata=-9999.9\n",
    ")\n",
    "new_crs = pyproj.CRS.from_epsg(32651)\n",
    "new_tiff_profile.update(crs=new_crs)\n"
   ]
  },
  {
   "cell_type": "code",
   "execution_count": null,
   "id": "b066d9f3",
   "metadata": {},
   "outputs": [],
   "source": [
    "fig, (a1, a2, a3) = plt.subplots(1,3, figsize=(12,4))\n",
    "a1.hist(vari_prev.flatten(), bins=100, range=(-0.5,1))\n",
    "a1.set_title('Previous Dataset')\n",
    "a1.set_xlabel(f'Min: {np.min(vari_prev):.2f} - Mean:{np.mean(vari_prev):.2f} - Max:{np.max(vari_prev):.2f}')\n",
    "\n",
    "a2.hist(vari_green.flatten(), bins=100,range=(-0.5,1))\n",
    "a2.set_title('Green Farm')\n",
    "a2.set_xlabel(f'Min: {np.min(vari_green):.2f} - Mean:{np.mean(vari_green):.2f} - Max:{np.max(vari_green):.2f}')\n",
    "\n",
    "a3.hist(vari_yellow.flatten(), bins=100,range=(-0.5,1))\n",
    "a3.set_title('Yellow Farm')\n",
    "a3.set_xlabel(f'Min: {np.min(vari_yellow):.2f} - Mean:{np.mean(vari_yellow):.2f} - Max:{np.max(vari_yellow):.2f}')"
   ]
  },
  {
   "cell_type": "code",
   "execution_count": null,
   "id": "6bad420f",
   "metadata": {
    "scrolled": true
   },
   "outputs": [],
   "source": [
    "print('VARI Min:' ,np.min(vari))\n",
    "print('VARI Mean:' ,np.mean(vari))\n",
    "print('VARI Max:' ,np.max(vari))\n",
    "print('GLI Min:' ,np.min(gli))\n",
    "print('GLI Mean:' ,np.mean(gli))\n",
    "print('GLI Max:' ,np.max(gli))"
   ]
  },
  {
   "cell_type": "code",
   "execution_count": null,
   "id": "3064b7d8",
   "metadata": {
    "scrolled": true
   },
   "outputs": [],
   "source": [
    "fig, (a1, a2) = plt.subplots(1,2)\n",
    "a1.hist(vari.flatten(), bins=100, range=(-0.5,1))\n",
    "\n",
    "a2.hist(gli.flatten(), bins=100,range=(-0.5,1))"
   ]
  },
  {
   "cell_type": "code",
   "execution_count": null,
   "id": "277c4146",
   "metadata": {},
   "outputs": [],
   "source": [
    "fig, (a1, a2, a3) = plt.subplots(1,3, figsize=(12,4))\n",
    "a1.imshow(vari_prev, cmap='YlOrRd')\n",
    "a2.imshow(vari_green, cmap='YlOrRd')\n",
    "a3.imshow(vari_yellow, cmap='YlOrRd')"
   ]
  },
  {
   "cell_type": "code",
   "execution_count": null,
   "id": "b00f0f22",
   "metadata": {},
   "outputs": [],
   "source": [
    "#export data to file\n",
    "with rasterio.open('index/exg_yellow.tif', 'w', **new_tiff_profile) as new_tiff:\n",
    "                            new_tiff.write(exg_yellow, 1)"
   ]
  },
  {
   "cell_type": "code",
   "execution_count": null,
   "id": "9dc3deef",
   "metadata": {},
   "outputs": [],
   "source": []
  },
  {
   "cell_type": "code",
   "execution_count": null,
   "id": "7dcdd0b8",
   "metadata": {},
   "outputs": [],
   "source": [
    "#EXG"
   ]
  },
  {
   "cell_type": "code",
   "execution_count": null,
   "id": "20a5edc9",
   "metadata": {},
   "outputs": [],
   "source": []
  },
  {
   "cell_type": "code",
   "execution_count": null,
   "id": "81c4977b",
   "metadata": {},
   "outputs": [],
   "source": []
  },
  {
   "cell_type": "code",
   "execution_count": null,
   "id": "dd237d30",
   "metadata": {},
   "outputs": [],
   "source": []
  },
  {
   "cell_type": "code",
   "execution_count": null,
   "id": "d88be604",
   "metadata": {},
   "outputs": [],
   "source": []
  },
  {
   "cell_type": "code",
   "execution_count": null,
   "id": "cb7f4736",
   "metadata": {},
   "outputs": [],
   "source": []
  },
  {
   "cell_type": "code",
   "execution_count": null,
   "id": "41255afb",
   "metadata": {},
   "outputs": [],
   "source": []
  },
  {
   "cell_type": "code",
   "execution_count": null,
   "id": "2cd3a722",
   "metadata": {},
   "outputs": [],
   "source": []
  },
  {
   "cell_type": "code",
   "execution_count": null,
   "id": "3b4d6ddf",
   "metadata": {},
   "outputs": [],
   "source": []
  },
  {
   "cell_type": "code",
   "execution_count": null,
   "id": "8fd6bb52",
   "metadata": {},
   "outputs": [],
   "source": []
  }
 ],
 "metadata": {
  "kernelspec": {
   "display_name": "class",
   "language": "python",
   "name": "class"
  },
  "language_info": {
   "codemirror_mode": {
    "name": "ipython",
    "version": 3
   },
   "file_extension": ".py",
   "mimetype": "text/x-python",
   "name": "python",
   "nbconvert_exporter": "python",
   "pygments_lexer": "ipython3",
   "version": "3.9.18"
  }
 },
 "nbformat": 4,
 "nbformat_minor": 5
}
