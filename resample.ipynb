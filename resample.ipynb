{
 "cells": [
  {
   "cell_type": "code",
   "execution_count": 45,
   "id": "92f963c6",
   "metadata": {},
   "outputs": [],
   "source": [
    "import numpy as np\n",
    "import rasterio\n",
    "import matplotlib.pyplot as plt\n",
    "from pyproj import CRS, Transformer\n",
    "from rasterio.warp import reproject, Resampling, CRS\n",
    "import pyproj\n",
    "from rasterio.enums import Resampling"
   ]
  },
  {
   "cell_type": "code",
   "execution_count": 23,
   "id": "bb8dfefb",
   "metadata": {},
   "outputs": [],
   "source": [
    "nodata = -9999.9"
   ]
  },
  {
   "cell_type": "code",
   "execution_count": 32,
   "id": "dd319069",
   "metadata": {},
   "outputs": [],
   "source": [
    "#LOAD RASTER DATA\n",
    "#from rasterio import features\n",
    "with rasterio.open('src_raster/yellow.tif') as data_yellow:\n",
    "    rband_yellow = data_yellow.read(1).astype(np.float32)\n",
    "    gband_yellow = data_yellow.read(2).astype(np.float32)\n",
    "    bband_yellow = data_yellow.read(3).astype(np.float32)\n",
    "    meta_yellow = data_yellow.meta\n",
    "    \n",
    "with rasterio.open('src_raster/green.tif') as data_green:\n",
    "    rband_green = data_green.read(1).astype(np.float32)\n",
    "    gband_green = data_green.read(2).astype(np.float32)\n",
    "    bband_green = data_green.read(3).astype(np.float32)\n",
    "    meta_green = data_green.meta"
   ]
  },
  {
   "cell_type": "code",
   "execution_count": 33,
   "id": "f0cb4ec1",
   "metadata": {},
   "outputs": [],
   "source": [
    "#VARI on YELLOW DATA\n",
    "den_yellow = gband_yellow + rband_yellow - bband_yellow\n",
    "den_yellow = np.where(np.isclose(den_yellow, 0), 1e-1, den_yellow)  # Avoid division by nearly zero\n",
    "vari_yellow = (gband_yellow - rband_yellow) / den_yellow\n",
    "# Replace NaN values with nodata\n",
    "#vari_yellow[np.isnan(vari_yellow)] = -9999.9\n",
    "#vari_yellow[vari_yellow==0] = -9999.9\n",
    "vari_yellow = np.clip(vari_yellow, -1, 1)"
   ]
  },
  {
   "cell_type": "code",
   "execution_count": 34,
   "id": "d2ed6427",
   "metadata": {},
   "outputs": [],
   "source": [
    "#VARI on GREEN DATA\n",
    "den_green = gband_green + rband_green - bband_green\n",
    "den_green = np.where(np.isclose(den_green, 0), 1e-1, den_green)  # Avoid division by nearly zero\n",
    "vari_green = (gband_green - rband_green) / den_green\n",
    "# Replace NaN values with nodata\n",
    "#vari_green[np.isnan(vari_green)] = -9999.9\n",
    "#vari_green[vari_green==0] = -9999.9\n",
    "vari_green = np.clip(vari_green, -1, 1)"
   ]
  },
  {
   "cell_type": "code",
   "execution_count": 35,
   "id": "022bf309",
   "metadata": {},
   "outputs": [
    {
     "data": {
      "text/plain": [
       "0.050845146"
      ]
     },
     "execution_count": 35,
     "metadata": {},
     "output_type": "execute_result"
    }
   ],
   "source": [
    "np.mean(vari_yellow)"
   ]
  },
  {
   "cell_type": "code",
   "execution_count": 36,
   "id": "ae810a64",
   "metadata": {
    "scrolled": true
   },
   "outputs": [
    {
     "data": {
      "text/plain": [
       "(array([1.17620000e+04, 5.30000000e+01, 3.15000000e+02, 4.83000000e+02,\n",
       "        6.11000000e+02, 8.79000000e+02, 5.19000000e+02, 8.46000000e+02,\n",
       "        1.13200000e+03, 4.02000000e+02, 1.97400000e+03, 9.16000000e+02,\n",
       "        1.91100000e+03, 1.08100000e+03, 1.07900000e+03, 1.57200000e+03,\n",
       "        3.24200000e+03, 1.56900000e+03, 2.53900000e+03, 2.03000000e+03,\n",
       "        3.61900000e+03, 4.15600000e+03, 4.54500000e+03, 5.17400000e+03,\n",
       "        3.55800000e+03, 1.43230000e+04, 1.04160000e+04, 1.35110000e+04,\n",
       "        1.78200000e+04, 2.04340000e+04, 3.58080000e+04, 4.32010000e+04,\n",
       "        6.24360000e+04, 8.74290000e+04, 1.20421000e+05, 1.83716000e+05,\n",
       "        2.63082000e+05, 3.77497000e+05, 5.47147000e+05, 7.21750000e+05,\n",
       "        1.11794700e+06, 1.44012200e+06, 1.90147600e+06, 2.37279000e+06,\n",
       "        2.73710500e+06, 2.89106000e+06, 2.59954300e+06, 2.30814000e+06,\n",
       "        2.34194200e+06, 1.81474700e+06, 1.24013015e+08, 4.71047300e+06,\n",
       "        6.34161300e+06, 7.69388600e+06, 8.02680200e+06, 8.12358000e+06,\n",
       "        7.93303800e+06, 7.16095800e+06, 6.25686700e+06, 5.21577400e+06,\n",
       "        4.83277500e+06, 3.98514000e+06, 3.45401000e+06, 2.96639100e+06,\n",
       "        2.53132300e+06, 2.25970600e+06, 1.94102400e+06, 1.65377200e+06,\n",
       "        1.43690700e+06, 1.15086900e+06, 1.10652200e+06, 8.66272000e+05,\n",
       "        7.32100000e+05, 6.07343000e+05, 4.16779000e+05, 5.08752000e+05,\n",
       "        3.49306000e+05, 2.83537000e+05, 2.36180000e+05, 1.77743000e+05,\n",
       "        1.74165000e+05, 1.29486000e+05, 1.08490000e+05, 9.01480000e+04,\n",
       "        7.13800000e+04, 6.32240000e+04, 5.11280000e+04, 4.23040000e+04,\n",
       "        3.58290000e+04, 2.54950000e+04, 2.97830000e+04, 2.12740000e+04,\n",
       "        1.98290000e+04, 1.51860000e+04, 1.29930000e+04, 1.35020000e+04,\n",
       "        1.03700000e+04, 9.64300000e+03, 7.26900000e+03, 9.96260000e+04]),\n",
       " array([-1.        , -0.98000002, -0.95999998, -0.94      , -0.92000002,\n",
       "        -0.89999998, -0.88      , -0.86000001, -0.83999997, -0.81999999,\n",
       "        -0.80000001, -0.77999997, -0.75999999, -0.74000001, -0.72000003,\n",
       "        -0.69999999, -0.68000001, -0.66000003, -0.63999999, -0.62      ,\n",
       "        -0.60000002, -0.57999998, -0.56      , -0.54000002, -0.51999998,\n",
       "        -0.5       , -0.47999999, -0.46000001, -0.44      , -0.41999999,\n",
       "        -0.40000001, -0.38      , -0.36000001, -0.34      , -0.31999999,\n",
       "        -0.30000001, -0.28      , -0.25999999, -0.23999999, -0.22      ,\n",
       "        -0.2       , -0.18000001, -0.16      , -0.14      , -0.12      ,\n",
       "        -0.1       , -0.08      , -0.06      , -0.04      , -0.02      ,\n",
       "         0.        ,  0.02      ,  0.04      ,  0.06      ,  0.08      ,\n",
       "         0.1       ,  0.12      ,  0.14      ,  0.16      ,  0.18000001,\n",
       "         0.2       ,  0.22      ,  0.23999999,  0.25999999,  0.28      ,\n",
       "         0.30000001,  0.31999999,  0.34      ,  0.36000001,  0.38      ,\n",
       "         0.40000001,  0.41999999,  0.44      ,  0.46000001,  0.47999999,\n",
       "         0.5       ,  0.51999998,  0.54000002,  0.56      ,  0.57999998,\n",
       "         0.60000002,  0.62      ,  0.63999999,  0.66000003,  0.68000001,\n",
       "         0.69999999,  0.72000003,  0.74000001,  0.75999999,  0.77999997,\n",
       "         0.80000001,  0.81999999,  0.83999997,  0.86000001,  0.88      ,\n",
       "         0.89999998,  0.92000002,  0.94      ,  0.95999998,  0.98000002,\n",
       "         1.        ]),\n",
       " <BarContainer object of 100 artists>)"
      ]
     },
     "execution_count": 36,
     "metadata": {},
     "output_type": "execute_result"
    },
    {
     "data": {
      "image/png": "[encoded data removed]",
      "text/plain": [
       "<Figure size 1200x400 with 2 Axes>"
      ]
     },
     "metadata": {},
     "output_type": "display_data"
    }
   ],
   "source": [
    "fig, (a2, a3) = plt.subplots(1,2, figsize=(12,4))\n",
    "a2.hist(vari_yellow.flatten(), bins=100 )\n",
    "a3.hist(vari_green.flatten(), bins=100)"
   ]
  },
  {
   "cell_type": "code",
   "execution_count": 40,
   "id": "eabaa4a6",
   "metadata": {},
   "outputs": [],
   "source": [
    "# green farm\n",
    "new_tiff_profile_yellow = data_yellow.profile  # Copy the profile from the original dataset\n",
    "new_tiff_profile_yellow.update(\n",
    "            dtype=rasterio.float32,  # Update the data type to match the VARI data\n",
    "                        count=1,  # Only one band for VARI\n",
    "                        compress='lzw',  # You can choose a compression method if needed\n",
    "                        tiled=False,\n",
    "                        blockysize=1,\n",
    "                        nodata=-9999.9\n",
    ")\n",
    "new_crs_yellow = pyproj.CRS.from_epsg(32651)\n",
    "new_tiff_profile_yellow.update(crs=new_crs_yellow)\n",
    "\n",
    "# green farm\n",
    "new_tiff_profile_green = data_green.profile  # Copy the profile from the original dataset\n",
    "new_tiff_profile_green.update(\n",
    "            dtype=rasterio.float32,  # Update the data type to match the VARI data\n",
    "                        count=1,  # Only one band for VARI\n",
    "                        compress='lzw',  # You can choose a compression method if needed\n",
    "                        tiled=False,\n",
    "                        blockysize=1,\n",
    "                        nodata=-9999.9\n",
    ")\n",
    "new_crs_green = pyproj.CRS.from_epsg(32651)\n",
    "new_tiff_profile_green.update(crs=new_crs_green)\n"
   ]
  },
  {
   "cell_type": "code",
   "execution_count": 47,
   "id": "c58e243b",
   "metadata": {
    "collapsed": true
   },
   "outputs": [
    {
     "ename": "AttributeError",
     "evalue": "'numpy.ndarray' object has no attribute 'read'",
     "output_type": "error",
     "traceback": [
      "\u001b[1;31m---------------------------------------------------------------------------\u001b[0m",
      "\u001b[1;31mAttributeError\u001b[0m                            Traceback (most recent call last)",
      "Cell \u001b[1;32mIn[47], line 3\u001b[0m\n\u001b[0;32m      1\u001b[0m \u001b[38;5;66;03m#export data to file\u001b[39;00m\n\u001b[0;32m      2\u001b[0m \u001b[38;5;28;01mwith\u001b[39;00m rasterio\u001b[38;5;241m.\u001b[39mopen(\u001b[38;5;124m'\u001b[39m\u001b[38;5;124mout_raster/exg_yellow_resample.tif\u001b[39m\u001b[38;5;124m'\u001b[39m, \u001b[38;5;124m'\u001b[39m\u001b[38;5;124mw\u001b[39m\u001b[38;5;124m'\u001b[39m, \u001b[38;5;241m*\u001b[39m\u001b[38;5;241m*\u001b[39mnew_tiff_profile_yellow) \u001b[38;5;28;01mas\u001b[39;00m new_tiff_yellow:\n\u001b[1;32m----> 3\u001b[0m                             new_tiff_yellow\u001b[38;5;241m.\u001b[39mwrite(\u001b[43mvari_yellow\u001b[49m\u001b[38;5;241;43m.\u001b[39;49m\u001b[43mread\u001b[49m(out_shape\u001b[38;5;241m=\u001b[39m(\u001b[38;5;241m1\u001b[39m, zone_raster\u001b[38;5;241m.\u001b[39mheight \u001b[38;5;241m*\u001b[39m \u001b[38;5;241m2\u001b[39m, zone_raster\u001b[38;5;241m.\u001b[39mwidth \u001b[38;5;241m*\u001b[39m \u001b[38;5;241m2\u001b[39m), resampling\u001b[38;5;241m=\u001b[39mResampling\u001b[38;5;241m.\u001b[39mbilinear),\n\u001b[0;32m      4\u001b[0m             indexes\u001b[38;5;241m=\u001b[39m\u001b[38;5;241m1\u001b[39m)\n",
      "\u001b[1;31mAttributeError\u001b[0m: 'numpy.ndarray' object has no attribute 'read'"
     ]
    }
   ],
   "source": [
    "#export data to file\n",
    "with rasterio.open('out_raster/exg_yellow_resample.tif', 'w', **new_tiff_profile_yellow) as new_tiff_yellow:\n",
    "                            new_tiff_yellow.write(vari_yellow,1)"
   ]
  },
  {
   "cell_type": "code",
   "execution_count": 44,
   "id": "a78fee12",
   "metadata": {},
   "outputs": [],
   "source": [
    "#export data to file\n",
    "with rasterio.open('out_raster/exg_green.tif', 'w', **new_tiff_profile_green) as new_tiff_green:\n",
    "                            new_tiff_green.write(vari_green, 1)"
   ]
  },
  {
   "cell_type": "code",
   "execution_count": null,
   "id": "d32621a4",
   "metadata": {},
   "outputs": [],
   "source": []
  },
  {
   "cell_type": "code",
   "execution_count": null,
   "id": "87ad4965",
   "metadata": {},
   "outputs": [],
   "source": []
  },
  {
   "cell_type": "code",
   "execution_count": null,
   "id": "e03c7145",
   "metadata": {},
   "outputs": [],
   "source": []
  },
  {
   "cell_type": "code",
   "execution_count": null,
   "id": "906cb32c",
   "metadata": {},
   "outputs": [],
   "source": []
  },
  {
   "cell_type": "code",
   "execution_count": null,
   "id": "9aa99bf8",
   "metadata": {},
   "outputs": [],
   "source": []
  },
  {
   "cell_type": "code",
   "execution_count": null,
   "id": "1bc88e19",
   "metadata": {},
   "outputs": [],
   "source": []
  },
  {
   "cell_type": "code",
   "execution_count": null,
   "id": "6cdf0b1f",
   "metadata": {},
   "outputs": [],
   "source": []
  },
  {
   "cell_type": "code",
   "execution_count": null,
   "id": "40275949",
   "metadata": {},
   "outputs": [],
   "source": []
  },
  {
   "cell_type": "code",
   "execution_count": null,
   "id": "67434d8b",
   "metadata": {},
   "outputs": [],
   "source": []
  },
  {
   "cell_type": "code",
   "execution_count": null,
   "id": "b55a58c4",
   "metadata": {},
   "outputs": [],
   "source": []
  },
  {
   "cell_type": "code",
   "execution_count": null,
   "id": "b7bcb7c6",
   "metadata": {},
   "outputs": [],
   "source": []
  },
  {
   "cell_type": "code",
   "execution_count": null,
   "id": "e807adb1",
   "metadata": {},
   "outputs": [],
   "source": []
  },
  {
   "cell_type": "code",
   "execution_count": null,
   "id": "b0f8cd19",
   "metadata": {},
   "outputs": [],
   "source": []
  },
  {
   "cell_type": "code",
   "execution_count": null,
   "id": "3c42cf02",
   "metadata": {},
   "outputs": [],
   "source": []
  }
 ],
 "metadata": {
  "kernelspec": {
   "display_name": "class",
   "language": "python",
   "name": "class"
  },
  "language_info": {
   "codemirror_mode": {
    "name": "ipython",
    "version": 3
   },
   "file_extension": ".py",
   "mimetype": "text/x-python",
   "name": "python",
   "nbconvert_exporter": "python",
   "pygments_lexer": "ipython3",
   "version": "3.9.18"
  }
 },
 "nbformat": 4,
 "nbformat_minor": 5
}
